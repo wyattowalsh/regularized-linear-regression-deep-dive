{
 "cells": [
  {
   "cell_type": "markdown",
   "metadata": {},
   "source": [
    "# <center> Regularized Linear Regression from Scratch </center> <br> \n",
    "<center>Prepared by Wyatt Walsh</center>"
   ]
  },
  {
   "cell_type": "markdown",
   "metadata": {
    "toc": true
   },
   "source": [
    "<h1>Table of Contents<span class=\"tocSkip\"></span></h1>\n",
    "<div class=\"toc\"><ul class=\"toc-item\"><li><span><a href=\"#Configure-Environment-and-Load-Libraries/Data\" data-toc-modified-id=\"Configure-Environment-and-Load-Libraries/Data-1\">Configure Environment and Load Libraries/Data</a></span></li><li><span><a href=\"#Split-data-into-training-and-testing-sets\" data-toc-modified-id=\"Split-data-into-training-and-testing-sets-2\">Split data into training and testing sets</a></span></li><li><span><a href=\"#Data-Cleaning-&amp;-Exploratory-Data-Analysis\" data-toc-modified-id=\"Data-Cleaning-&amp;-Exploratory-Data-Analysis-3\">Data Cleaning &amp; Exploratory Data Analysis</a></span></li></ul></div>"
   ]
  },
  {
   "cell_type": "markdown",
   "metadata": {},
   "source": [
    "## Configure Environment and Load Libraries/Data\n",
    "First, necessary libraries are imported and the notebook is configured for future plotting"
   ]
  },
  {
   "cell_type": "code",
   "execution_count": 1,
   "metadata": {
    "ExecuteTime": {
     "end_time": "2020-11-24T15:36:26.645454Z",
     "start_time": "2020-11-24T15:36:26.345950Z"
    },
    "hide_input": false
   },
   "outputs": [],
   "source": [
    "import numpy as np\n",
    "# from math import *\n",
    "import pandas as pd \n",
    "\n",
    "from src import utilities as utils\n",
    "from src import linear_regression as regress\n",
    "from src import cross_validation as cv\n",
    "# %matplotlib inline\n",
    "# from mpl_toolkits.mplot3d import Axes3D\n",
    "# import matplotlib.pyplot as plt"
   ]
  },
  {
   "cell_type": "code",
   "execution_count": 2,
   "metadata": {
    "ExecuteTime": {
     "end_time": "2020-11-24T15:36:26.674045Z",
     "start_time": "2020-11-24T15:36:26.647558Z"
    },
    "code_folding": [],
    "hide_input": false
   },
   "outputs": [
    {
     "data": {
      "text/html": [
       "<div>\n",
       "<style scoped>\n",
       "    .dataframe tbody tr th:only-of-type {\n",
       "        vertical-align: middle;\n",
       "    }\n",
       "\n",
       "    .dataframe tbody tr th {\n",
       "        vertical-align: top;\n",
       "    }\n",
       "\n",
       "    .dataframe thead th {\n",
       "        text-align: right;\n",
       "    }\n",
       "</style>\n",
       "<table border=\"1\" class=\"dataframe\">\n",
       "  <thead>\n",
       "    <tr style=\"text-align: right;\">\n",
       "      <th></th>\n",
       "      <th>fixed acidity</th>\n",
       "      <th>volatile acidity</th>\n",
       "      <th>citric acid</th>\n",
       "      <th>residual sugar</th>\n",
       "      <th>chlorides</th>\n",
       "      <th>free sulfur dioxide</th>\n",
       "      <th>total sulfur dioxide</th>\n",
       "      <th>density</th>\n",
       "      <th>pH</th>\n",
       "      <th>sulphates</th>\n",
       "      <th>alcohol</th>\n",
       "      <th>quality</th>\n",
       "    </tr>\n",
       "  </thead>\n",
       "  <tbody>\n",
       "    <tr>\n",
       "      <th>0</th>\n",
       "      <td>7.4</td>\n",
       "      <td>0.70</td>\n",
       "      <td>0.00</td>\n",
       "      <td>1.9</td>\n",
       "      <td>0.076</td>\n",
       "      <td>11.0</td>\n",
       "      <td>34.0</td>\n",
       "      <td>0.9978</td>\n",
       "      <td>3.51</td>\n",
       "      <td>0.56</td>\n",
       "      <td>9.4</td>\n",
       "      <td>5</td>\n",
       "    </tr>\n",
       "    <tr>\n",
       "      <th>1</th>\n",
       "      <td>7.8</td>\n",
       "      <td>0.88</td>\n",
       "      <td>0.00</td>\n",
       "      <td>2.6</td>\n",
       "      <td>0.098</td>\n",
       "      <td>25.0</td>\n",
       "      <td>67.0</td>\n",
       "      <td>0.9968</td>\n",
       "      <td>3.20</td>\n",
       "      <td>0.68</td>\n",
       "      <td>9.8</td>\n",
       "      <td>5</td>\n",
       "    </tr>\n",
       "    <tr>\n",
       "      <th>2</th>\n",
       "      <td>7.8</td>\n",
       "      <td>0.76</td>\n",
       "      <td>0.04</td>\n",
       "      <td>2.3</td>\n",
       "      <td>0.092</td>\n",
       "      <td>15.0</td>\n",
       "      <td>54.0</td>\n",
       "      <td>0.9970</td>\n",
       "      <td>3.26</td>\n",
       "      <td>0.65</td>\n",
       "      <td>9.8</td>\n",
       "      <td>5</td>\n",
       "    </tr>\n",
       "    <tr>\n",
       "      <th>3</th>\n",
       "      <td>11.2</td>\n",
       "      <td>0.28</td>\n",
       "      <td>0.56</td>\n",
       "      <td>1.9</td>\n",
       "      <td>0.075</td>\n",
       "      <td>17.0</td>\n",
       "      <td>60.0</td>\n",
       "      <td>0.9980</td>\n",
       "      <td>3.16</td>\n",
       "      <td>0.58</td>\n",
       "      <td>9.8</td>\n",
       "      <td>6</td>\n",
       "    </tr>\n",
       "    <tr>\n",
       "      <th>4</th>\n",
       "      <td>7.4</td>\n",
       "      <td>0.70</td>\n",
       "      <td>0.00</td>\n",
       "      <td>1.9</td>\n",
       "      <td>0.076</td>\n",
       "      <td>11.0</td>\n",
       "      <td>34.0</td>\n",
       "      <td>0.9978</td>\n",
       "      <td>3.51</td>\n",
       "      <td>0.56</td>\n",
       "      <td>9.4</td>\n",
       "      <td>5</td>\n",
       "    </tr>\n",
       "  </tbody>\n",
       "</table>\n",
       "</div>"
      ],
      "text/plain": [
       "   fixed acidity  volatile acidity  citric acid  residual sugar  chlorides  \\\n",
       "0            7.4              0.70         0.00             1.9      0.076   \n",
       "1            7.8              0.88         0.00             2.6      0.098   \n",
       "2            7.8              0.76         0.04             2.3      0.092   \n",
       "3           11.2              0.28         0.56             1.9      0.075   \n",
       "4            7.4              0.70         0.00             1.9      0.076   \n",
       "\n",
       "   free sulfur dioxide  total sulfur dioxide  density    pH  sulphates  \\\n",
       "0                 11.0                  34.0   0.9978  3.51       0.56   \n",
       "1                 25.0                  67.0   0.9968  3.20       0.68   \n",
       "2                 15.0                  54.0   0.9970  3.26       0.65   \n",
       "3                 17.0                  60.0   0.9980  3.16       0.58   \n",
       "4                 11.0                  34.0   0.9978  3.51       0.56   \n",
       "\n",
       "   alcohol  quality  \n",
       "0      9.4        5  \n",
       "1      9.8        5  \n",
       "2      9.8        5  \n",
       "3      9.8        6  \n",
       "4      9.4        5  "
      ]
     },
     "execution_count": 2,
     "metadata": {},
     "output_type": "execute_result"
    }
   ],
   "source": [
    "wine_data_raw = pd.read_csv('data/winequality-red.csv', sep = ';')\n",
    "wine_data_raw.head()"
   ]
  },
  {
   "cell_type": "markdown",
   "metadata": {},
   "source": [
    "## Split data into training and testing sets\n",
    "Before further modeling, the data should be split into training and test sets so that the accuracy of final models can be better assessed."
   ]
  },
  {
   "cell_type": "code",
   "execution_count": 3,
   "metadata": {
    "ExecuteTime": {
     "end_time": "2020-11-24T15:36:26.707841Z",
     "start_time": "2020-11-24T15:36:26.676724Z"
    }
   },
   "outputs": [
    {
     "data": {
      "text/html": [
       "<div>\n",
       "<style scoped>\n",
       "    .dataframe tbody tr th:only-of-type {\n",
       "        vertical-align: middle;\n",
       "    }\n",
       "\n",
       "    .dataframe tbody tr th {\n",
       "        vertical-align: top;\n",
       "    }\n",
       "\n",
       "    .dataframe thead th {\n",
       "        text-align: right;\n",
       "    }\n",
       "</style>\n",
       "<table border=\"1\" class=\"dataframe\">\n",
       "  <thead>\n",
       "    <tr style=\"text-align: right;\">\n",
       "      <th></th>\n",
       "      <th>fixed acidity</th>\n",
       "      <th>volatile acidity</th>\n",
       "      <th>citric acid</th>\n",
       "      <th>residual sugar</th>\n",
       "      <th>chlorides</th>\n",
       "      <th>free sulfur dioxide</th>\n",
       "      <th>total sulfur dioxide</th>\n",
       "      <th>density</th>\n",
       "      <th>pH</th>\n",
       "      <th>sulphates</th>\n",
       "      <th>alcohol</th>\n",
       "      <th>quality</th>\n",
       "    </tr>\n",
       "  </thead>\n",
       "  <tbody>\n",
       "    <tr>\n",
       "      <th>0</th>\n",
       "      <td>7.7</td>\n",
       "      <td>0.56</td>\n",
       "      <td>0.08</td>\n",
       "      <td>2.50</td>\n",
       "      <td>0.114</td>\n",
       "      <td>14.0</td>\n",
       "      <td>46.0</td>\n",
       "      <td>0.9971</td>\n",
       "      <td>3.24</td>\n",
       "      <td>0.66</td>\n",
       "      <td>9.6</td>\n",
       "      <td>6</td>\n",
       "    </tr>\n",
       "    <tr>\n",
       "      <th>1</th>\n",
       "      <td>7.8</td>\n",
       "      <td>0.50</td>\n",
       "      <td>0.17</td>\n",
       "      <td>1.60</td>\n",
       "      <td>0.082</td>\n",
       "      <td>21.0</td>\n",
       "      <td>102.0</td>\n",
       "      <td>0.9960</td>\n",
       "      <td>3.39</td>\n",
       "      <td>0.48</td>\n",
       "      <td>9.5</td>\n",
       "      <td>5</td>\n",
       "    </tr>\n",
       "    <tr>\n",
       "      <th>2</th>\n",
       "      <td>10.7</td>\n",
       "      <td>0.67</td>\n",
       "      <td>0.22</td>\n",
       "      <td>2.70</td>\n",
       "      <td>0.107</td>\n",
       "      <td>17.0</td>\n",
       "      <td>34.0</td>\n",
       "      <td>1.0004</td>\n",
       "      <td>3.28</td>\n",
       "      <td>0.98</td>\n",
       "      <td>9.9</td>\n",
       "      <td>6</td>\n",
       "    </tr>\n",
       "    <tr>\n",
       "      <th>3</th>\n",
       "      <td>8.5</td>\n",
       "      <td>0.46</td>\n",
       "      <td>0.31</td>\n",
       "      <td>2.25</td>\n",
       "      <td>0.078</td>\n",
       "      <td>32.0</td>\n",
       "      <td>58.0</td>\n",
       "      <td>0.9980</td>\n",
       "      <td>3.33</td>\n",
       "      <td>0.54</td>\n",
       "      <td>9.8</td>\n",
       "      <td>5</td>\n",
       "    </tr>\n",
       "    <tr>\n",
       "      <th>4</th>\n",
       "      <td>6.7</td>\n",
       "      <td>0.46</td>\n",
       "      <td>0.24</td>\n",
       "      <td>1.70</td>\n",
       "      <td>0.077</td>\n",
       "      <td>18.0</td>\n",
       "      <td>34.0</td>\n",
       "      <td>0.9948</td>\n",
       "      <td>3.39</td>\n",
       "      <td>0.60</td>\n",
       "      <td>10.6</td>\n",
       "      <td>6</td>\n",
       "    </tr>\n",
       "  </tbody>\n",
       "</table>\n",
       "</div>"
      ],
      "text/plain": [
       "   fixed acidity  volatile acidity  citric acid  residual sugar  chlorides  \\\n",
       "0            7.7              0.56         0.08            2.50      0.114   \n",
       "1            7.8              0.50         0.17            1.60      0.082   \n",
       "2           10.7              0.67         0.22            2.70      0.107   \n",
       "3            8.5              0.46         0.31            2.25      0.078   \n",
       "4            6.7              0.46         0.24            1.70      0.077   \n",
       "\n",
       "   free sulfur dioxide  total sulfur dioxide  density    pH  sulphates  \\\n",
       "0                 14.0                  46.0   0.9971  3.24       0.66   \n",
       "1                 21.0                 102.0   0.9960  3.39       0.48   \n",
       "2                 17.0                  34.0   1.0004  3.28       0.98   \n",
       "3                 32.0                  58.0   0.9980  3.33       0.54   \n",
       "4                 18.0                  34.0   0.9948  3.39       0.60   \n",
       "\n",
       "   alcohol  quality  \n",
       "0      9.6        6  \n",
       "1      9.5        5  \n",
       "2      9.9        6  \n",
       "3      9.8        5  \n",
       "4     10.6        6  "
      ]
     },
     "metadata": {},
     "output_type": "display_data"
    },
    {
     "data": {
      "text/html": [
       "<div>\n",
       "<style scoped>\n",
       "    .dataframe tbody tr th:only-of-type {\n",
       "        vertical-align: middle;\n",
       "    }\n",
       "\n",
       "    .dataframe tbody tr th {\n",
       "        vertical-align: top;\n",
       "    }\n",
       "\n",
       "    .dataframe thead th {\n",
       "        text-align: right;\n",
       "    }\n",
       "</style>\n",
       "<table border=\"1\" class=\"dataframe\">\n",
       "  <thead>\n",
       "    <tr style=\"text-align: right;\">\n",
       "      <th></th>\n",
       "      <th>fixed acidity</th>\n",
       "      <th>volatile acidity</th>\n",
       "      <th>citric acid</th>\n",
       "      <th>residual sugar</th>\n",
       "      <th>chlorides</th>\n",
       "      <th>free sulfur dioxide</th>\n",
       "      <th>total sulfur dioxide</th>\n",
       "      <th>density</th>\n",
       "      <th>pH</th>\n",
       "      <th>sulphates</th>\n",
       "      <th>alcohol</th>\n",
       "      <th>quality</th>\n",
       "    </tr>\n",
       "  </thead>\n",
       "  <tbody>\n",
       "    <tr>\n",
       "      <th>0</th>\n",
       "      <td>8.0</td>\n",
       "      <td>0.28</td>\n",
       "      <td>0.44</td>\n",
       "      <td>1.8</td>\n",
       "      <td>0.081</td>\n",
       "      <td>28.0</td>\n",
       "      <td>68.0</td>\n",
       "      <td>0.99501</td>\n",
       "      <td>3.36</td>\n",
       "      <td>0.66</td>\n",
       "      <td>11.2</td>\n",
       "      <td>5</td>\n",
       "    </tr>\n",
       "    <tr>\n",
       "      <th>1</th>\n",
       "      <td>7.0</td>\n",
       "      <td>0.50</td>\n",
       "      <td>0.14</td>\n",
       "      <td>1.8</td>\n",
       "      <td>0.078</td>\n",
       "      <td>10.0</td>\n",
       "      <td>23.0</td>\n",
       "      <td>0.99636</td>\n",
       "      <td>3.53</td>\n",
       "      <td>0.61</td>\n",
       "      <td>10.4</td>\n",
       "      <td>5</td>\n",
       "    </tr>\n",
       "    <tr>\n",
       "      <th>2</th>\n",
       "      <td>6.0</td>\n",
       "      <td>0.50</td>\n",
       "      <td>0.00</td>\n",
       "      <td>1.4</td>\n",
       "      <td>0.057</td>\n",
       "      <td>15.0</td>\n",
       "      <td>26.0</td>\n",
       "      <td>0.99448</td>\n",
       "      <td>3.36</td>\n",
       "      <td>0.45</td>\n",
       "      <td>9.5</td>\n",
       "      <td>5</td>\n",
       "    </tr>\n",
       "    <tr>\n",
       "      <th>3</th>\n",
       "      <td>8.0</td>\n",
       "      <td>0.59</td>\n",
       "      <td>0.05</td>\n",
       "      <td>2.0</td>\n",
       "      <td>0.089</td>\n",
       "      <td>12.0</td>\n",
       "      <td>32.0</td>\n",
       "      <td>0.99735</td>\n",
       "      <td>3.36</td>\n",
       "      <td>0.61</td>\n",
       "      <td>10.0</td>\n",
       "      <td>5</td>\n",
       "    </tr>\n",
       "    <tr>\n",
       "      <th>4</th>\n",
       "      <td>6.5</td>\n",
       "      <td>0.53</td>\n",
       "      <td>0.06</td>\n",
       "      <td>2.0</td>\n",
       "      <td>0.063</td>\n",
       "      <td>29.0</td>\n",
       "      <td>44.0</td>\n",
       "      <td>0.99489</td>\n",
       "      <td>3.38</td>\n",
       "      <td>0.83</td>\n",
       "      <td>10.3</td>\n",
       "      <td>6</td>\n",
       "    </tr>\n",
       "  </tbody>\n",
       "</table>\n",
       "</div>"
      ],
      "text/plain": [
       "   fixed acidity  volatile acidity  citric acid  residual sugar  chlorides  \\\n",
       "0            8.0              0.28         0.44             1.8      0.081   \n",
       "1            7.0              0.50         0.14             1.8      0.078   \n",
       "2            6.0              0.50         0.00             1.4      0.057   \n",
       "3            8.0              0.59         0.05             2.0      0.089   \n",
       "4            6.5              0.53         0.06             2.0      0.063   \n",
       "\n",
       "   free sulfur dioxide  total sulfur dioxide  density    pH  sulphates  \\\n",
       "0                 28.0                  68.0  0.99501  3.36       0.66   \n",
       "1                 10.0                  23.0  0.99636  3.53       0.61   \n",
       "2                 15.0                  26.0  0.99448  3.36       0.45   \n",
       "3                 12.0                  32.0  0.99735  3.36       0.61   \n",
       "4                 29.0                  44.0  0.99489  3.38       0.83   \n",
       "\n",
       "   alcohol  quality  \n",
       "0     11.2        5  \n",
       "1     10.4        5  \n",
       "2      9.5        5  \n",
       "3     10.0        5  \n",
       "4     10.3        6  "
      ]
     },
     "metadata": {},
     "output_type": "display_data"
    },
    {
     "name": "stdout",
     "output_type": "stream",
     "text": [
      "With a training proportion of 0.8, there are 1279 rows in the training set and 320 rows in the test set\n"
     ]
    }
   ],
   "source": [
    "train_proportion = 0.8\n",
    "train,test = utils.test_train_split(wine_data_raw, train_proportion)\n",
    "display(train.head())\n",
    "display(test.head())\n",
    "print('With a training proportion of {}, \\\n",
    "there are {} rows in the training set and {} rows in the test set'.format(train_proportion, len(train), len(test)))"
   ]
  },
  {
   "cell_type": "markdown",
   "metadata": {},
   "source": [
    "## Data Cleaning & Exploratory Data Analysis\n",
    "First, variance inflation factor (VIF) calculations are made to examine possible multicollinearity of the predictors by iteratively removing the highest scoring predictor with a score above 5."
   ]
  },
  {
   "cell_type": "code",
   "execution_count": 4,
   "metadata": {
    "ExecuteTime": {
     "end_time": "2020-11-24T15:36:26.729854Z",
     "start_time": "2020-11-24T15:36:26.709978Z"
    },
    "scrolled": false
   },
   "outputs": [
    {
     "data": {
      "text/plain": [
       "('Good to go!',\n",
       " array([ 3.0736194 ,  1.75838425,  3.12756353,  1.09627117,  1.4706392 ,\n",
       "         1.95006412,  2.17514747, -0.00512664,  2.24780735,  1.33993516,\n",
       "         1.3120369 ,  0.        ]))"
      ]
     },
     "execution_count": 4,
     "metadata": {},
     "output_type": "execute_result"
    }
   ],
   "source": [
    "utils.VIF(wine_data_raw)"
   ]
  },
  {
   "cell_type": "markdown",
   "metadata": {},
   "source": [
    "With the data pre-processing and evaluation step completing, computing different estimates of the model parameters can be conducted. "
   ]
  },
  {
   "cell_type": "markdown",
   "metadata": {},
   "source": [
    "Both Ordinary Least Squares (OLS) and Ridge Regression have closed form solutions for the values of the parameters that minimize the squared loss so those equations are solved and computed! "
   ]
  },
  {
   "cell_type": "markdown",
   "metadata": {},
   "source": [
    "\\begin{align}\n",
    "\\begin{bmatrix}\n",
    "    \\hat{\\beta}_0\\\\\n",
    "    \\hat{\\beta}\\\\\n",
    "\\end{bmatrix}\n",
    "&=\n",
    "\\arg\\min_{\\beta_0,\\beta} \\left\\Vert\\mathbf{Y}-\\begin{bmatrix} \\mathbf{1_n} & \\mathbf{X} \\end{bmatrix}\\begin{bmatrix}\n",
    "    \\hat{\\beta}_0\\\\\n",
    "    \\hat{\\beta}\\\\\n",
    "\\end{bmatrix}\\right\\Vert^2 _2\n",
    "\\\\\n",
    "\\begin{bmatrix}\n",
    "    \\hat{\\beta}\\\\\n",
    "\\end{bmatrix}\n",
    "&=\n",
    "{(\\mathbf{X'}\\mathbf{X}})^{-1} (\\mathbf{X'}\\mathbf{Y})\n",
    "\\end{align}"
   ]
  },
  {
   "cell_type": "markdown",
   "metadata": {},
   "source": [
    "Lasso Regression and the Elastic Net however do not have closed form solutions due to the nature of the L1 norm penalization term. This means that discrete optimization methods are needed in order to compute the regression estimates using these regularization techniques. Currently one of the best algorithms to accomplish this is Coordinate Descent that incorporates warm starts and covariance/naive updates."
   ]
  },
  {
   "cell_type": "markdown",
   "metadata": {
    "hide_input": false
   },
   "source": [
    "Now, in order to find the correct tuning parameters for Ridge, Lasso, and the Elastic Net K-fold Cross Validation is used. We use a k = 10 since our data set is only 1599 entries, and make our grid spacing on a log scale for lambda and a log scale for alpha (in the case of the Elastic Net)"
   ]
  },
  {
   "cell_type": "code",
   "execution_count": 5,
   "metadata": {
    "ExecuteTime": {
     "end_time": "2020-11-24T15:36:26.889323Z",
     "start_time": "2020-11-24T15:36:26.837833Z"
    }
   },
   "outputs": [
    {
     "name": "stdout",
     "output_type": "stream",
     "text": [
      "12\n",
      "12\n",
      "12\n",
      "12\n",
      "12\n"
     ]
    },
    {
     "data": {
      "text/plain": [
       "(115.97036839656326,\n",
       " array([118.83304723, 111.72576105, 111.81252649, 115.22113985,\n",
       "        122.25936736]),\n",
       " array([[[ 4.30308239e+01,  3.79176029e-02, -9.47253534e-01,\n",
       "          -1.40061919e-01,  2.78992627e-02, -2.23348987e+00,\n",
       "           4.28000920e-03, -3.25273215e-03, -3.82602412e+01,\n",
       "          -7.06137468e-01,  1.20378090e+00,  2.62836816e-01],\n",
       "         [ 3.05188826e+01,  1.53561345e-02, -1.07534889e+00,\n",
       "          -8.69102093e-02,  1.66287799e-02, -1.53398072e+00,\n",
       "           5.48161349e-03, -3.92584726e-03, -2.55227531e+01,\n",
       "          -6.06809622e-01,  8.10907849e-01,  2.58686825e-01],\n",
       "         [ 1.41245138e+01, -1.04539671e-02, -7.23716562e-01,\n",
       "           1.00191644e-01,  1.52026041e-02, -2.09020850e+00,\n",
       "           4.82140522e-03, -3.88981470e-03, -9.06983012e+00,\n",
       "          -6.79697470e-01,  1.08999746e+00,  2.68393539e-01],\n",
       "         [ 6.08754926e+00, -1.99260136e-02, -8.80314718e-01,\n",
       "          -7.31604265e-02, -8.74758670e-03, -1.87738572e+00,\n",
       "           7.24385365e-03, -4.32475536e-03, -7.78478460e-01,\n",
       "          -7.12123192e-01,  9.68062062e-01,  2.85190163e-01],\n",
       "         [ 2.11892453e+01,  1.05628141e-02, -1.11241916e+00,\n",
       "          -2.26488797e-01, -3.11489933e-04, -1.94635544e+00,\n",
       "           2.26007712e-03, -2.73500003e-03, -1.62357006e+01,\n",
       "          -5.85265589e-01,  8.79023055e-01,  2.67578038e-01]]]))"
      ]
     },
     "execution_count": 5,
     "metadata": {},
     "output_type": "execute_result"
    }
   ],
   "source": [
    "ols_est = cv.cross_validation_error(train, regress.ols, 1, 5)\n",
    "ols_est\n",
    "# ridge = cross_validation(wine_data,10,100,Type = 'ridge')\n",
    "# lasso = cross_validation(wine_data,10,100, Type = 'lasso')\n",
    "# elastic = cross_validation(wine_data,10,100, Type = 'elastic net')"
   ]
  },
  {
   "cell_type": "code",
   "execution_count": null,
   "metadata": {},
   "outputs": [],
   "source": [
    "ols_est.values[:, 0:-1]"
   ]
  },
  {
   "cell_type": "code",
   "execution_count": null,
   "metadata": {},
   "outputs": [],
   "source": [
    "len(train.columns)"
   ]
  },
  {
   "cell_type": "code",
   "execution_count": null,
   "metadata": {},
   "outputs": [],
   "source": [
    "pd.DataFrame(index = [\"OLS\",\"Ridge\",\"Lasso\",\"Elastic Net\"], \n",
    "              data = ({\"Cross Validation Error\": [ols_est,ridge[1],\n",
    "                                                  lasso[1],elastic[2]]}))"
   ]
  },
  {
   "cell_type": "code",
   "execution_count": null,
   "metadata": {},
   "outputs": [],
   "source": [
    "indice_alpha = np.where(elastic[5] == elastic[1])[0][0]\n",
    "indice_lambda = np.where(elastic[4] == elastic[0])[0][0]\n",
    "columns = np.append('Intercept', wine_data.columns.values[0:-1])\n",
    "index = [\"OLS\",\"Ridge\",\"Lasso standardized\",\"Lasso unstandardized\",\\\n",
    "         \"Elastic Net standardized\",\"Elastic Net unstandardized\"]\n",
    "data = np.append(np.append(np.append(\n",
    "    np.append(np.append([ols(wine_data)], \\ [ridge_regression(\n",
    "        wine_data,ridge[0])],0), \\ [lasso_regression_covar(\n",
    "        wine_data,lasso[0])[0]],0),\\ [unstandardize(\n",
    "        lasso_regression_covar(wine_data,lasso[0])[0])],0),\\\n",
    "                 [elastic[-1][indice_alpha,:][indice_lambda,:]],0),\\\n",
    "                 [unstandardize(\n",
    "    elastic[-1][indice_alpha,:][indice_lambda,:])],0)\n",
    "\n",
    "pd.DataFrame(data = data, index = index, columns = columns)"
   ]
  },
  {
   "cell_type": "code",
   "execution_count": null,
   "metadata": {
    "scrolled": false
   },
   "outputs": [],
   "source": [
    "#Plot tuning parameters versus error and tuning parameters \n",
    "#versus coefficient value\n",
    "fig = plt.figure(figsize=(20*1.5,9*1.5))\n",
    "fig.tight_layout()\n",
    "\n",
    "rid = fig.add_subplot(211)\n",
    "rid.scatter(ridge[3], ridge[2])\n",
    "rid.plot(ridge[3], ridge[2])\n",
    "rid.set_xscale('log')\n",
    "rid.set_xlabel('Log Lambda')\n",
    "rid.set_ylabel(\"Cross Validation Error\")\n",
    "rid.set_title('Cross Validation Error for Ridge')\n",
    "\n",
    "rid_coeff = fig.add_subplot(212)\n",
    "rid_coeff.set_xlabel('Log Lambda')\n",
    "rid_coeff.set_ylabel(\"Coefficients\")\n",
    "rid_coeff.set_title(\"Coefficient Path for Ridge\")\n",
    "for i in np.arange(1,12):\n",
    "    rid_coeff.plot(ridge[3],ridge[4][:,i-1])\n",
    "    rid_coeff.set_xscale('log')\n",
    "\n"
   ]
  },
  {
   "cell_type": "code",
   "execution_count": null,
   "metadata": {},
   "outputs": [],
   "source": [
    "#Plot tuning parameters versus error and tuning parameters \n",
    "#versus coefficient value\n",
    "fig2 = plt.figure(figsize=(20*1.5,9*1.5))\n",
    "fig2.tight_layout()\n",
    "\n",
    "las = fig2.add_subplot(211)\n",
    "las.scatter(lasso[3], lasso[2])\n",
    "las.plot(lasso[3], lasso[2])\n",
    "las.set_xscale('log')\n",
    "las.set_xlabel('Log Lambda')\n",
    "las.set_ylabel(\"Cross Validation Error\")\n",
    "las.set_title('Cross Validation Error for Lasso')\n",
    "\n",
    "las_coeff = fig2.add_subplot(212)\n",
    "las_coeff.set_xlabel('Log Lambda')\n",
    "las_coeff.set_ylabel(\"Coefficients\")\n",
    "las_coeff.set_title(\"Coefficient Path for Lasso\")\n",
    "for i in np.arange(1,12):\n",
    "    las_coeff.plot(lasso[3],lasso[4][:,i])\n",
    "    las_coeff.set_xscale('log')\n",
    "    "
   ]
  },
  {
   "cell_type": "code",
   "execution_count": null,
   "metadata": {},
   "outputs": [],
   "source": [
    "fig4,axs = plt.subplots(6,1,figsize = (25*1.5,30*1.5))\n",
    "\n",
    "axs = axs.ravel()\n",
    "for i in np.arange(1,7):\n",
    "    X = elastic[4][int(99/(7-i)),:]\n",
    "    Y = elastic[3][int(99/(7-i)),:]\n",
    "    alpha = elastic[5][int(99/(7-i))]\n",
    "    axs[i-1].plot(X,Y)\n",
    "    axs[i-1].set_xscale('log')\n",
    "    axs[i-1].set_xlabel('Log Lambda')\n",
    "    axs[i-1].set_ylabel(\"Cross Validation Error\")\n",
    "    axs[i-1].set_title('Cross Validation Error for alpha = %f' %alpha)"
   ]
  },
  {
   "cell_type": "code",
   "execution_count": null,
   "metadata": {},
   "outputs": [],
   "source": [
    "fig5 = plt.figure(figsize=(15,15))\n",
    "\n",
    "elas_coeff = fig5.add_subplot(212)\n",
    "elas_coeff.set_xlabel('Log Lambda')\n",
    "elas_coeff.set_ylabel(\"Coefficients\")\n",
    "elas_coeff.set_title(\"Coefficient Path for Elastic Net\")\n",
    "\n",
    "indice = np.where(elastic[5] == elastic[1])[0][0]\n",
    "for i in np.arange(1,12):\n",
    "    elas_coeff.plot(elastic[4][indice,:],elastic[-1][indice,:][:,i])\n",
    "    elas_coeff.set_xscale('log')"
   ]
  }
 ],
 "metadata": {
  "kernelspec": {
   "display_name": "Python 3",
   "language": "python",
   "name": "python3"
  },
  "language_info": {
   "codemirror_mode": {
    "name": "ipython",
    "version": 3
   },
   "file_extension": ".py",
   "mimetype": "text/x-python",
   "name": "python",
   "nbconvert_exporter": "python",
   "pygments_lexer": "ipython3",
   "version": "3.8.2"
  },
  "latex_envs": {
   "LaTeX_envs_menu_present": true,
   "autoclose": true,
   "autocomplete": true,
   "bibliofile": "biblio.bib",
   "cite_by": "apalike",
   "current_citInitial": 1,
   "eqLabelWithNumbers": true,
   "eqNumInitial": 1,
   "hotkeys": {
    "equation": "Ctrl-E",
    "itemize": "Ctrl-I"
   },
   "labels_anchors": false,
   "latex_user_defs": false,
   "report_style_numbering": false,
   "user_envs_cfg": false
  },
  "toc": {
   "base_numbering": 1,
   "nav_menu": {},
   "number_sections": false,
   "sideBar": true,
   "skip_h1_title": true,
   "title_cell": "Table of Contents",
   "title_sidebar": "Contents",
   "toc_cell": true,
   "toc_position": {
    "height": "calc(100% - 180px)",
    "left": "10px",
    "top": "150px",
    "width": "165px"
   },
   "toc_section_display": true,
   "toc_window_display": true
  },
  "varInspector": {
   "cols": {
    "lenName": 16,
    "lenType": 16,
    "lenVar": 40
   },
   "kernels_config": {
    "python": {
     "delete_cmd_postfix": "",
     "delete_cmd_prefix": "del ",
     "library": "var_list.py",
     "varRefreshCmd": "print(var_dic_list())"
    },
    "r": {
     "delete_cmd_postfix": ") ",
     "delete_cmd_prefix": "rm(",
     "library": "var_list.r",
     "varRefreshCmd": "cat(var_dic_list()) "
    }
   },
   "types_to_exclude": [
    "module",
    "function",
    "builtin_function_or_method",
    "instance",
    "_Feature"
   ],
   "window_display": false
  }
 },
 "nbformat": 4,
 "nbformat_minor": 2
}
