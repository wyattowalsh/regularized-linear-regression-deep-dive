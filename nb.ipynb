{
 "cells": [
  {
   "cell_type": "markdown",
   "metadata": {},
   "source": [
    "# <center> Regularized Linear Regression from Scratch </center> <br> \n",
    "<center>Prepared by Wyatt Walsh</center>"
   ]
  },
  {
   "cell_type": "markdown",
   "metadata": {
    "toc": true
   },
   "source": [
    "<h1>Table of Contents<span class=\"tocSkip\"></span></h1>\n",
    "<div class=\"toc\"><ul class=\"toc-item\"><li><span><a href=\"#Configure-Environment-and-Load-Libraries/Data\" data-toc-modified-id=\"Configure-Environment-and-Load-Libraries/Data-1\">Configure Environment and Load Libraries/Data</a></span></li><li><span><a href=\"#Split-data-into-training-and-testing-sets\" data-toc-modified-id=\"Split-data-into-training-and-testing-sets-2\">Split data into training and testing sets</a></span></li><li><span><a href=\"#Data-Cleaning-&amp;-Exploratory-Data-Analysis\" data-toc-modified-id=\"Data-Cleaning-&amp;-Exploratory-Data-Analysis-3\">Data Cleaning &amp; Exploratory Data Analysis</a></span></li></ul></div>"
   ]
  },
  {
   "cell_type": "markdown",
   "metadata": {},
   "source": [
    "## Configure Environment and Load Libraries/Data\n",
    "First, necessary libraries are imported and the notebook is configured for future plotting"
   ]
  },
  {
   "cell_type": "code",
   "execution_count": 1,
   "metadata": {
    "ExecuteTime": {
     "end_time": "2020-11-29T11:13:22.924135Z",
     "start_time": "2020-11-29T11:13:21.975368Z"
    },
    "hide_input": false
   },
   "outputs": [],
   "source": [
    "# import tensorflow.experimental.numpy as tnp\n",
    "import numpy as np\n",
    "from math import isclose\n",
    "import pandas as pd \n",
    "import time\n",
    "\n",
    "from src import utilities as utils\n",
    "from src import linear_regression as lr\n",
    "from src import cross_validation as cv\n",
    "\n",
    "from sklearn.linear_model import LinearRegression as skOLS\n",
    "from sklearn.linear_model import RidgeCV\n",
    "# %matplotlib inline\n",
    "# from mpl_toolkits.mplot3d import Axes3D\n",
    "# import matplotlib.pyplot as plt"
   ]
  },
  {
   "cell_type": "code",
   "execution_count": 2,
   "metadata": {
    "ExecuteTime": {
     "end_time": "2020-11-29T11:13:23.414411Z",
     "start_time": "2020-11-29T11:13:23.392358Z"
    },
    "code_folding": [],
    "hide_input": false
   },
   "outputs": [
    {
     "data": {
      "text/html": [
       "<div>\n",
       "<style scoped>\n",
       "    .dataframe tbody tr th:only-of-type {\n",
       "        vertical-align: middle;\n",
       "    }\n",
       "\n",
       "    .dataframe tbody tr th {\n",
       "        vertical-align: top;\n",
       "    }\n",
       "\n",
       "    .dataframe thead th {\n",
       "        text-align: right;\n",
       "    }\n",
       "</style>\n",
       "<table border=\"1\" class=\"dataframe\">\n",
       "  <thead>\n",
       "    <tr style=\"text-align: right;\">\n",
       "      <th></th>\n",
       "      <th>fixed acidity</th>\n",
       "      <th>volatile acidity</th>\n",
       "      <th>citric acid</th>\n",
       "      <th>residual sugar</th>\n",
       "      <th>chlorides</th>\n",
       "      <th>free sulfur dioxide</th>\n",
       "      <th>total sulfur dioxide</th>\n",
       "      <th>density</th>\n",
       "      <th>pH</th>\n",
       "      <th>sulphates</th>\n",
       "      <th>alcohol</th>\n",
       "      <th>quality</th>\n",
       "    </tr>\n",
       "  </thead>\n",
       "  <tbody>\n",
       "    <tr>\n",
       "      <th>0</th>\n",
       "      <td>7.4</td>\n",
       "      <td>0.70</td>\n",
       "      <td>0.00</td>\n",
       "      <td>1.9</td>\n",
       "      <td>0.076</td>\n",
       "      <td>11.0</td>\n",
       "      <td>34.0</td>\n",
       "      <td>0.9978</td>\n",
       "      <td>3.51</td>\n",
       "      <td>0.56</td>\n",
       "      <td>9.4</td>\n",
       "      <td>5</td>\n",
       "    </tr>\n",
       "    <tr>\n",
       "      <th>1</th>\n",
       "      <td>7.8</td>\n",
       "      <td>0.88</td>\n",
       "      <td>0.00</td>\n",
       "      <td>2.6</td>\n",
       "      <td>0.098</td>\n",
       "      <td>25.0</td>\n",
       "      <td>67.0</td>\n",
       "      <td>0.9968</td>\n",
       "      <td>3.20</td>\n",
       "      <td>0.68</td>\n",
       "      <td>9.8</td>\n",
       "      <td>5</td>\n",
       "    </tr>\n",
       "    <tr>\n",
       "      <th>2</th>\n",
       "      <td>7.8</td>\n",
       "      <td>0.76</td>\n",
       "      <td>0.04</td>\n",
       "      <td>2.3</td>\n",
       "      <td>0.092</td>\n",
       "      <td>15.0</td>\n",
       "      <td>54.0</td>\n",
       "      <td>0.9970</td>\n",
       "      <td>3.26</td>\n",
       "      <td>0.65</td>\n",
       "      <td>9.8</td>\n",
       "      <td>5</td>\n",
       "    </tr>\n",
       "    <tr>\n",
       "      <th>3</th>\n",
       "      <td>11.2</td>\n",
       "      <td>0.28</td>\n",
       "      <td>0.56</td>\n",
       "      <td>1.9</td>\n",
       "      <td>0.075</td>\n",
       "      <td>17.0</td>\n",
       "      <td>60.0</td>\n",
       "      <td>0.9980</td>\n",
       "      <td>3.16</td>\n",
       "      <td>0.58</td>\n",
       "      <td>9.8</td>\n",
       "      <td>6</td>\n",
       "    </tr>\n",
       "    <tr>\n",
       "      <th>4</th>\n",
       "      <td>7.4</td>\n",
       "      <td>0.70</td>\n",
       "      <td>0.00</td>\n",
       "      <td>1.9</td>\n",
       "      <td>0.076</td>\n",
       "      <td>11.0</td>\n",
       "      <td>34.0</td>\n",
       "      <td>0.9978</td>\n",
       "      <td>3.51</td>\n",
       "      <td>0.56</td>\n",
       "      <td>9.4</td>\n",
       "      <td>5</td>\n",
       "    </tr>\n",
       "  </tbody>\n",
       "</table>\n",
       "</div>"
      ],
      "text/plain": [
       "   fixed acidity  volatile acidity  citric acid  residual sugar  chlorides  \\\n",
       "0            7.4              0.70         0.00             1.9      0.076   \n",
       "1            7.8              0.88         0.00             2.6      0.098   \n",
       "2            7.8              0.76         0.04             2.3      0.092   \n",
       "3           11.2              0.28         0.56             1.9      0.075   \n",
       "4            7.4              0.70         0.00             1.9      0.076   \n",
       "\n",
       "   free sulfur dioxide  total sulfur dioxide  density    pH  sulphates  \\\n",
       "0                 11.0                  34.0   0.9978  3.51       0.56   \n",
       "1                 25.0                  67.0   0.9968  3.20       0.68   \n",
       "2                 15.0                  54.0   0.9970  3.26       0.65   \n",
       "3                 17.0                  60.0   0.9980  3.16       0.58   \n",
       "4                 11.0                  34.0   0.9978  3.51       0.56   \n",
       "\n",
       "   alcohol  quality  \n",
       "0      9.4        5  \n",
       "1      9.8        5  \n",
       "2      9.8        5  \n",
       "3      9.8        6  \n",
       "4      9.4        5  "
      ]
     },
     "execution_count": 2,
     "metadata": {},
     "output_type": "execute_result"
    }
   ],
   "source": [
    "wine_data_raw = pd.read_csv('data/winequality-red.csv', sep = ';')\n",
    "wine_data_raw.head()"
   ]
  },
  {
   "cell_type": "markdown",
   "metadata": {},
   "source": [
    "## Split data into training and testing sets\n",
    "Before further modeling, the data should be split into training and test sets so that the accuracy of final models can be better assessed."
   ]
  },
  {
   "cell_type": "code",
   "execution_count": 3,
   "metadata": {
    "ExecuteTime": {
     "end_time": "2020-11-29T11:13:24.096567Z",
     "start_time": "2020-11-29T11:13:24.069472Z"
    }
   },
   "outputs": [
    {
     "data": {
      "text/html": [
       "<div>\n",
       "<style scoped>\n",
       "    .dataframe tbody tr th:only-of-type {\n",
       "        vertical-align: middle;\n",
       "    }\n",
       "\n",
       "    .dataframe tbody tr th {\n",
       "        vertical-align: top;\n",
       "    }\n",
       "\n",
       "    .dataframe thead th {\n",
       "        text-align: right;\n",
       "    }\n",
       "</style>\n",
       "<table border=\"1\" class=\"dataframe\">\n",
       "  <thead>\n",
       "    <tr style=\"text-align: right;\">\n",
       "      <th></th>\n",
       "      <th>fixed acidity</th>\n",
       "      <th>volatile acidity</th>\n",
       "      <th>citric acid</th>\n",
       "      <th>residual sugar</th>\n",
       "      <th>chlorides</th>\n",
       "      <th>free sulfur dioxide</th>\n",
       "      <th>total sulfur dioxide</th>\n",
       "      <th>density</th>\n",
       "      <th>pH</th>\n",
       "      <th>sulphates</th>\n",
       "      <th>alcohol</th>\n",
       "      <th>quality</th>\n",
       "    </tr>\n",
       "  </thead>\n",
       "  <tbody>\n",
       "    <tr>\n",
       "      <th>0</th>\n",
       "      <td>7.7</td>\n",
       "      <td>0.56</td>\n",
       "      <td>0.08</td>\n",
       "      <td>2.50</td>\n",
       "      <td>0.114</td>\n",
       "      <td>14.0</td>\n",
       "      <td>46.0</td>\n",
       "      <td>0.9971</td>\n",
       "      <td>3.24</td>\n",
       "      <td>0.66</td>\n",
       "      <td>9.6</td>\n",
       "      <td>6</td>\n",
       "    </tr>\n",
       "    <tr>\n",
       "      <th>1</th>\n",
       "      <td>7.8</td>\n",
       "      <td>0.50</td>\n",
       "      <td>0.17</td>\n",
       "      <td>1.60</td>\n",
       "      <td>0.082</td>\n",
       "      <td>21.0</td>\n",
       "      <td>102.0</td>\n",
       "      <td>0.9960</td>\n",
       "      <td>3.39</td>\n",
       "      <td>0.48</td>\n",
       "      <td>9.5</td>\n",
       "      <td>5</td>\n",
       "    </tr>\n",
       "    <tr>\n",
       "      <th>2</th>\n",
       "      <td>10.7</td>\n",
       "      <td>0.67</td>\n",
       "      <td>0.22</td>\n",
       "      <td>2.70</td>\n",
       "      <td>0.107</td>\n",
       "      <td>17.0</td>\n",
       "      <td>34.0</td>\n",
       "      <td>1.0004</td>\n",
       "      <td>3.28</td>\n",
       "      <td>0.98</td>\n",
       "      <td>9.9</td>\n",
       "      <td>6</td>\n",
       "    </tr>\n",
       "    <tr>\n",
       "      <th>3</th>\n",
       "      <td>8.5</td>\n",
       "      <td>0.46</td>\n",
       "      <td>0.31</td>\n",
       "      <td>2.25</td>\n",
       "      <td>0.078</td>\n",
       "      <td>32.0</td>\n",
       "      <td>58.0</td>\n",
       "      <td>0.9980</td>\n",
       "      <td>3.33</td>\n",
       "      <td>0.54</td>\n",
       "      <td>9.8</td>\n",
       "      <td>5</td>\n",
       "    </tr>\n",
       "    <tr>\n",
       "      <th>4</th>\n",
       "      <td>6.7</td>\n",
       "      <td>0.46</td>\n",
       "      <td>0.24</td>\n",
       "      <td>1.70</td>\n",
       "      <td>0.077</td>\n",
       "      <td>18.0</td>\n",
       "      <td>34.0</td>\n",
       "      <td>0.9948</td>\n",
       "      <td>3.39</td>\n",
       "      <td>0.60</td>\n",
       "      <td>10.6</td>\n",
       "      <td>6</td>\n",
       "    </tr>\n",
       "  </tbody>\n",
       "</table>\n",
       "</div>"
      ],
      "text/plain": [
       "   fixed acidity  volatile acidity  citric acid  residual sugar  chlorides  \\\n",
       "0            7.7              0.56         0.08            2.50      0.114   \n",
       "1            7.8              0.50         0.17            1.60      0.082   \n",
       "2           10.7              0.67         0.22            2.70      0.107   \n",
       "3            8.5              0.46         0.31            2.25      0.078   \n",
       "4            6.7              0.46         0.24            1.70      0.077   \n",
       "\n",
       "   free sulfur dioxide  total sulfur dioxide  density    pH  sulphates  \\\n",
       "0                 14.0                  46.0   0.9971  3.24       0.66   \n",
       "1                 21.0                 102.0   0.9960  3.39       0.48   \n",
       "2                 17.0                  34.0   1.0004  3.28       0.98   \n",
       "3                 32.0                  58.0   0.9980  3.33       0.54   \n",
       "4                 18.0                  34.0   0.9948  3.39       0.60   \n",
       "\n",
       "   alcohol  quality  \n",
       "0      9.6        6  \n",
       "1      9.5        5  \n",
       "2      9.9        6  \n",
       "3      9.8        5  \n",
       "4     10.6        6  "
      ]
     },
     "metadata": {},
     "output_type": "display_data"
    },
    {
     "data": {
      "text/html": [
       "<div>\n",
       "<style scoped>\n",
       "    .dataframe tbody tr th:only-of-type {\n",
       "        vertical-align: middle;\n",
       "    }\n",
       "\n",
       "    .dataframe tbody tr th {\n",
       "        vertical-align: top;\n",
       "    }\n",
       "\n",
       "    .dataframe thead th {\n",
       "        text-align: right;\n",
       "    }\n",
       "</style>\n",
       "<table border=\"1\" class=\"dataframe\">\n",
       "  <thead>\n",
       "    <tr style=\"text-align: right;\">\n",
       "      <th></th>\n",
       "      <th>fixed acidity</th>\n",
       "      <th>volatile acidity</th>\n",
       "      <th>citric acid</th>\n",
       "      <th>residual sugar</th>\n",
       "      <th>chlorides</th>\n",
       "      <th>free sulfur dioxide</th>\n",
       "      <th>total sulfur dioxide</th>\n",
       "      <th>density</th>\n",
       "      <th>pH</th>\n",
       "      <th>sulphates</th>\n",
       "      <th>alcohol</th>\n",
       "      <th>quality</th>\n",
       "    </tr>\n",
       "  </thead>\n",
       "  <tbody>\n",
       "    <tr>\n",
       "      <th>0</th>\n",
       "      <td>8.0</td>\n",
       "      <td>0.28</td>\n",
       "      <td>0.44</td>\n",
       "      <td>1.8</td>\n",
       "      <td>0.081</td>\n",
       "      <td>28.0</td>\n",
       "      <td>68.0</td>\n",
       "      <td>0.99501</td>\n",
       "      <td>3.36</td>\n",
       "      <td>0.66</td>\n",
       "      <td>11.2</td>\n",
       "      <td>5</td>\n",
       "    </tr>\n",
       "    <tr>\n",
       "      <th>1</th>\n",
       "      <td>7.0</td>\n",
       "      <td>0.50</td>\n",
       "      <td>0.14</td>\n",
       "      <td>1.8</td>\n",
       "      <td>0.078</td>\n",
       "      <td>10.0</td>\n",
       "      <td>23.0</td>\n",
       "      <td>0.99636</td>\n",
       "      <td>3.53</td>\n",
       "      <td>0.61</td>\n",
       "      <td>10.4</td>\n",
       "      <td>5</td>\n",
       "    </tr>\n",
       "    <tr>\n",
       "      <th>2</th>\n",
       "      <td>6.0</td>\n",
       "      <td>0.50</td>\n",
       "      <td>0.00</td>\n",
       "      <td>1.4</td>\n",
       "      <td>0.057</td>\n",
       "      <td>15.0</td>\n",
       "      <td>26.0</td>\n",
       "      <td>0.99448</td>\n",
       "      <td>3.36</td>\n",
       "      <td>0.45</td>\n",
       "      <td>9.5</td>\n",
       "      <td>5</td>\n",
       "    </tr>\n",
       "    <tr>\n",
       "      <th>3</th>\n",
       "      <td>8.0</td>\n",
       "      <td>0.59</td>\n",
       "      <td>0.05</td>\n",
       "      <td>2.0</td>\n",
       "      <td>0.089</td>\n",
       "      <td>12.0</td>\n",
       "      <td>32.0</td>\n",
       "      <td>0.99735</td>\n",
       "      <td>3.36</td>\n",
       "      <td>0.61</td>\n",
       "      <td>10.0</td>\n",
       "      <td>5</td>\n",
       "    </tr>\n",
       "    <tr>\n",
       "      <th>4</th>\n",
       "      <td>6.5</td>\n",
       "      <td>0.53</td>\n",
       "      <td>0.06</td>\n",
       "      <td>2.0</td>\n",
       "      <td>0.063</td>\n",
       "      <td>29.0</td>\n",
       "      <td>44.0</td>\n",
       "      <td>0.99489</td>\n",
       "      <td>3.38</td>\n",
       "      <td>0.83</td>\n",
       "      <td>10.3</td>\n",
       "      <td>6</td>\n",
       "    </tr>\n",
       "  </tbody>\n",
       "</table>\n",
       "</div>"
      ],
      "text/plain": [
       "   fixed acidity  volatile acidity  citric acid  residual sugar  chlorides  \\\n",
       "0            8.0              0.28         0.44             1.8      0.081   \n",
       "1            7.0              0.50         0.14             1.8      0.078   \n",
       "2            6.0              0.50         0.00             1.4      0.057   \n",
       "3            8.0              0.59         0.05             2.0      0.089   \n",
       "4            6.5              0.53         0.06             2.0      0.063   \n",
       "\n",
       "   free sulfur dioxide  total sulfur dioxide  density    pH  sulphates  \\\n",
       "0                 28.0                  68.0  0.99501  3.36       0.66   \n",
       "1                 10.0                  23.0  0.99636  3.53       0.61   \n",
       "2                 15.0                  26.0  0.99448  3.36       0.45   \n",
       "3                 12.0                  32.0  0.99735  3.36       0.61   \n",
       "4                 29.0                  44.0  0.99489  3.38       0.83   \n",
       "\n",
       "   alcohol  quality  \n",
       "0     11.2        5  \n",
       "1     10.4        5  \n",
       "2      9.5        5  \n",
       "3     10.0        5  \n",
       "4     10.3        6  "
      ]
     },
     "metadata": {},
     "output_type": "display_data"
    },
    {
     "name": "stdout",
     "output_type": "stream",
     "text": [
      "With a training proportion of 0.8, there are 1279 rows in the training set and 320 rows in the test set\n"
     ]
    }
   ],
   "source": [
    "train_proportion = 0.8\n",
    "train,test = utils.test_train_split(wine_data_raw, train_proportion)\n",
    "train_vals, test_vals = train.to_numpy(), test.to_numpy()\n",
    "X_train = train_vals[:, 0:-1]\n",
    "y_train = train_vals[:, [-1]]\n",
    "X_test = test_vals[:, 0:-1]\n",
    "y_test = test_vals[:, [-1]]\n",
    "display(train.head()), display(test.head())\n",
    "print('With a training proportion of {}, \\\n",
    "there are {} rows in the training set and {} rows in the test set'.format(train_proportion, len(train), len(test)))"
   ]
  },
  {
   "cell_type": "markdown",
   "metadata": {},
   "source": [
    "## Data Cleaning & Exploratory Data Analysis\n",
    "First, variance inflation factor (VIF) calculations are made to examine possible multicollinearity of the predictors by iteratively removing the highest scoring predictor with a score above 5."
   ]
  },
  {
   "cell_type": "code",
   "execution_count": 4,
   "metadata": {
    "ExecuteTime": {
     "end_time": "2020-11-29T11:13:24.944403Z",
     "start_time": "2020-11-29T11:13:24.935794Z"
    },
    "scrolled": false
   },
   "outputs": [
    {
     "data": {
      "text/plain": [
       "('Low Multicollinearity!',\n",
       " array([ 3.07389133,  1.75308848,  3.05862454,  1.10142866,  1.46048231,\n",
       "         1.97929531,  2.23184107, -0.00517207,  2.26784033,  1.34956851,\n",
       "         1.32223964]))"
      ]
     },
     "execution_count": 4,
     "metadata": {},
     "output_type": "execute_result"
    }
   ],
   "source": [
    "utils.VIF(X_train)"
   ]
  },
  {
   "cell_type": "markdown",
   "metadata": {},
   "source": [
    "With the data pre-processing and evaluation step completing, computing different estimates of the model parameters can be conducted. "
   ]
  },
  {
   "cell_type": "markdown",
   "metadata": {},
   "source": [
    "Both Ordinary Least Squares (OLS) and Ridge Regression have closed form solutions for the values of the parameters that minimize the squared loss so those equations are solved and computed! "
   ]
  },
  {
   "cell_type": "code",
   "execution_count": 5,
   "metadata": {
    "ExecuteTime": {
     "end_time": "2020-11-29T11:13:26.456003Z",
     "start_time": "2020-11-29T11:13:26.413413Z"
    }
   },
   "outputs": [
    {
     "name": "stdout",
     "output_type": "stream",
     "text": [
      "My OLS Function's Runtime:  0.0017201900482177734\n",
      "Scikit-learn's OLS Function Runtime:  0.00404810905456543\n",
      "Are the error values close?   True\n"
     ]
    },
    {
     "name": "stderr",
     "output_type": "stream",
     "text": [
      "/Users/wyattowalsh/miniconda3/envs/regularized-regression-from-scratch/lib/python3.8/site-packages/numpy/core/_asarray.py:136: VisibleDeprecationWarning: Creating an ndarray from ragged nested sequences (which is a list-or-tuple of lists-or-tuples-or ndarrays with different lengths or shapes) is deprecated. If you meant to do this, you must specify 'dtype=object' when creating the ndarray\n",
      "  return array(a, dtype, copy=False, order=order, subok=True)\n"
     ]
    },
    {
     "data": {
      "text/html": [
       "<div>\n",
       "<style scoped>\n",
       "    .dataframe tbody tr th:only-of-type {\n",
       "        vertical-align: middle;\n",
       "    }\n",
       "\n",
       "    .dataframe tbody tr th {\n",
       "        vertical-align: top;\n",
       "    }\n",
       "\n",
       "    .dataframe thead th {\n",
       "        text-align: right;\n",
       "    }\n",
       "</style>\n",
       "<table border=\"1\" class=\"dataframe\">\n",
       "  <thead>\n",
       "    <tr style=\"text-align: right;\">\n",
       "      <th></th>\n",
       "      <th>Runtime (s)</th>\n",
       "      <th>Error</th>\n",
       "      <th>Y-Intercept</th>\n",
       "      <th>fixed acidity</th>\n",
       "      <th>volatile acidity</th>\n",
       "      <th>citric acid</th>\n",
       "      <th>residual sugar</th>\n",
       "      <th>chlorides</th>\n",
       "      <th>free sulfur dioxide</th>\n",
       "      <th>total sulfur dioxide</th>\n",
       "      <th>density</th>\n",
       "      <th>pH</th>\n",
       "      <th>sulphates</th>\n",
       "      <th>alcohol</th>\n",
       "    </tr>\n",
       "  </thead>\n",
       "  <tbody>\n",
       "    <tr>\n",
       "      <th>My Function</th>\n",
       "      <td>0.00172019</td>\n",
       "      <td>85308.6</td>\n",
       "      <td>22.4645</td>\n",
       "      <td>0.00653813</td>\n",
       "      <td>-0.952018</td>\n",
       "      <td>-0.0861438</td>\n",
       "      <td>0.00958988</td>\n",
       "      <td>-1.92368</td>\n",
       "      <td>0.00493009</td>\n",
       "      <td>-0.00364213</td>\n",
       "      <td>-17.4434</td>\n",
       "      <td>-0.659216</td>\n",
       "      <td>0.985946</td>\n",
       "      <td>0.269186</td>\n",
       "    </tr>\n",
       "    <tr>\n",
       "      <th>Scikit-Learn's Function</th>\n",
       "      <td>0.00404811</td>\n",
       "      <td>85308.6</td>\n",
       "      <td>[22.46453362811144]</td>\n",
       "      <td>0.00653813</td>\n",
       "      <td>-0.952018</td>\n",
       "      <td>-0.0861438</td>\n",
       "      <td>0.00958988</td>\n",
       "      <td>-1.92368</td>\n",
       "      <td>0.00493009</td>\n",
       "      <td>-0.00364213</td>\n",
       "      <td>-17.4434</td>\n",
       "      <td>-0.659216</td>\n",
       "      <td>0.985946</td>\n",
       "      <td>0.269186</td>\n",
       "    </tr>\n",
       "  </tbody>\n",
       "</table>\n",
       "</div>"
      ],
      "text/plain": [
       "                        Runtime (s)    Error          Y-Intercept  \\\n",
       "My Function              0.00172019  85308.6              22.4645   \n",
       "Scikit-Learn's Function  0.00404811  85308.6  [22.46453362811144]   \n",
       "\n",
       "                        fixed acidity volatile acidity citric acid  \\\n",
       "My Function                0.00653813        -0.952018  -0.0861438   \n",
       "Scikit-Learn's Function    0.00653813        -0.952018  -0.0861438   \n",
       "\n",
       "                        residual sugar chlorides free sulfur dioxide  \\\n",
       "My Function                 0.00958988  -1.92368          0.00493009   \n",
       "Scikit-Learn's Function     0.00958988  -1.92368          0.00493009   \n",
       "\n",
       "                        total sulfur dioxide  density        pH sulphates  \\\n",
       "My Function                      -0.00364213 -17.4434 -0.659216  0.985946   \n",
       "Scikit-Learn's Function          -0.00364213 -17.4434 -0.659216  0.985946   \n",
       "\n",
       "                          alcohol  \n",
       "My Function              0.269186  \n",
       "Scikit-Learn's Function  0.269186  "
      ]
     },
     "execution_count": 5,
     "metadata": {},
     "output_type": "execute_result"
    }
   ],
   "source": [
    "start = time.time()\n",
    "ols = lr.ols(X_train, y_train)\n",
    "ols_error = utils.get_error(ols, test_vals)\n",
    "end = time.time()\n",
    "times_OLS = end-start\n",
    "print('My OLS Function\\'s Runtime: ', end - start)\n",
    "\n",
    "start = time.time()\n",
    "OLS_fitted_sklearn = skOLS(fit_intercept= True).fit(X_train, y_train)\n",
    "OLS_predictions_sklearn = OLS_fitted_sklearn.predict(test.values[:, 0:-1])\n",
    "OLS_error_sklearn = np.linalg.norm(test.values[:,-1]-OLS_predictions_sklearn)**2\n",
    "end = time.time()\n",
    "times_OLS = np.append(times_OLS, end - start)\n",
    "print('Scikit-learn\\'s OLS Function Runtime: ', end - start)\n",
    "\n",
    "print('Are the error values close?', \" \", isclose(ols_error,OLS_error_sklearn))\n",
    "\n",
    "OLS_sklearn_row = np.append([times_OLS[1], OLS_error_sklearn, OLS_fitted_sklearn.intercept_], OLS_fitted_sklearn.coef_)\n",
    "ols_row = np.append(np.append(times_OLS[0], ols_error), ols)\n",
    "OLS_df = pd.DataFrame(np.vstack((ols_row, OLS_sklearn_row)), columns = np.append(['Runtime (s)','Error','Y-Intercept'],train.columns[0:-1]))\n",
    "OLS_df.index = ['My Function', \"Scikit-Learn's Function\"]\n",
    "OLS_df"
   ]
  },
  {
   "cell_type": "code",
   "execution_count": 8,
   "metadata": {
    "ExecuteTime": {
     "end_time": "2020-11-29T11:15:14.823076Z",
     "start_time": "2020-11-29T11:15:14.611663Z"
    }
   },
   "outputs": [
    {
     "name": "stdout",
     "output_type": "stream",
     "text": [
      "My Ridge Function's Runtime:  0.1403791904449463\n",
      "Scikit-learn's Ridge Function Runtime:  0.03422999382019043\n",
      "Are the error values close?   True\n"
     ]
    },
    {
     "data": {
      "text/html": [
       "<div>\n",
       "<style scoped>\n",
       "    .dataframe tbody tr th:only-of-type {\n",
       "        vertical-align: middle;\n",
       "    }\n",
       "\n",
       "    .dataframe tbody tr th {\n",
       "        vertical-align: top;\n",
       "    }\n",
       "\n",
       "    .dataframe thead th {\n",
       "        text-align: right;\n",
       "    }\n",
       "</style>\n",
       "<table border=\"1\" class=\"dataframe\">\n",
       "  <thead>\n",
       "    <tr style=\"text-align: right;\">\n",
       "      <th></th>\n",
       "      <th>Runtime (s)</th>\n",
       "      <th>Error</th>\n",
       "      <th>Y-Intercept</th>\n",
       "      <th>fixed acidity</th>\n",
       "      <th>volatile acidity</th>\n",
       "      <th>citric acid</th>\n",
       "      <th>residual sugar</th>\n",
       "      <th>chlorides</th>\n",
       "      <th>free sulfur dioxide</th>\n",
       "      <th>total sulfur dioxide</th>\n",
       "      <th>density</th>\n",
       "      <th>pH</th>\n",
       "      <th>sulphates</th>\n",
       "      <th>alcohol</th>\n",
       "    </tr>\n",
       "  </thead>\n",
       "  <tbody>\n",
       "    <tr>\n",
       "      <th>My Function</th>\n",
       "      <td>0.140379</td>\n",
       "      <td>111.674604</td>\n",
       "      <td>4.999346</td>\n",
       "      <td>-0.009309</td>\n",
       "      <td>-0.998126</td>\n",
       "      <td>-0.021753</td>\n",
       "      <td>-0.001947</td>\n",
       "      <td>-1.357499</td>\n",
       "      <td>0.004224</td>\n",
       "      <td>-0.003436</td>\n",
       "      <td>-0.025877</td>\n",
       "      <td>-0.605643</td>\n",
       "      <td>0.839102</td>\n",
       "      <td>0.282051</td>\n",
       "    </tr>\n",
       "    <tr>\n",
       "      <th>Scikit-Learn's Function</th>\n",
       "      <td>0.034230</td>\n",
       "      <td>111.876011</td>\n",
       "      <td>4.971814</td>\n",
       "      <td>-0.002578</td>\n",
       "      <td>-0.982513</td>\n",
       "      <td>-0.104107</td>\n",
       "      <td>0.001340</td>\n",
       "      <td>-1.289327</td>\n",
       "      <td>0.005073</td>\n",
       "      <td>-0.003564</td>\n",
       "      <td>-0.017864</td>\n",
       "      <td>-0.653298</td>\n",
       "      <td>0.864480</td>\n",
       "      <td>0.292262</td>\n",
       "    </tr>\n",
       "  </tbody>\n",
       "</table>\n",
       "</div>"
      ],
      "text/plain": [
       "                         Runtime (s)       Error  Y-Intercept  fixed acidity  \\\n",
       "My Function                 0.140379  111.674604     4.999346      -0.009309   \n",
       "Scikit-Learn's Function     0.034230  111.876011     4.971814      -0.002578   \n",
       "\n",
       "                         volatile acidity  citric acid  residual sugar  \\\n",
       "My Function                     -0.998126    -0.021753       -0.001947   \n",
       "Scikit-Learn's Function         -0.982513    -0.104107        0.001340   \n",
       "\n",
       "                         chlorides  free sulfur dioxide  total sulfur dioxide  \\\n",
       "My Function              -1.357499             0.004224             -0.003436   \n",
       "Scikit-Learn's Function  -1.289327             0.005073             -0.003564   \n",
       "\n",
       "                          density        pH  sulphates   alcohol  \n",
       "My Function             -0.025877 -0.605643   0.839102  0.282051  \n",
       "Scikit-Learn's Function -0.017864 -0.653298   0.864480  0.292262  "
      ]
     },
     "execution_count": 8,
     "metadata": {},
     "output_type": "execute_result"
    }
   ],
   "source": [
    "start = time.time()\n",
    "ridge = cv.ridge(X_train, y_train)\n",
    "ridge_error = utils.get_error(ridge[3], test_vals)\n",
    "end = time.time()\n",
    "times_ridge = end-start\n",
    "print('My Ridge Function\\'s Runtime: ', times_ridge)\n",
    "\n",
    "start = time.time()\n",
    "ridge_fitted_sklearn = RidgeCV(alphas = (0.1,1,100), fit_intercept= True, cv = 5).fit(train_vals[:,0:-1],\n",
    "                                                                               train_vals[:,-1])\n",
    "ridge_predictions_sklearn = ridge_fitted_sklearn.predict(test_vals[:, 0:-1])\n",
    "ridge_error_sklearn = np.linalg.norm(test.values[:,-1]-\n",
    "                                     ridge_predictions_sklearn)**2\n",
    "end = time.time()\n",
    "times_ridge = np.append(times_ridge, end - start)\n",
    "print('Scikit-learn\\'s Ridge Function Runtime: ', end - start)\n",
    "\n",
    "print('Are the error values close?', \" \", isclose(ridge_error,ridge_error_sklearn) or ridge_error < ridge_error_sklearn)\n",
    "\n",
    "ridge_sklearn_row = np.append([times_ridge[1], ridge_error_sklearn, ridge_fitted_sklearn.intercept_], \n",
    "                              ridge_fitted_sklearn.coef_)\n",
    "ridge_row = np.append(np.append(times_ridge[0], ridge_error), ridge[3])\n",
    "ridge_df = pd.DataFrame(np.vstack((ridge_row, ridge_sklearn_row)), columns = np.append(['Runtime (s)','Error','Y-Intercept'],train.columns[0:-1]))\n",
    "ridge_df.index = ['My Function', \"Scikit-Learn's Function\"]\n",
    "ridge_df"
   ]
  },
  {
   "cell_type": "code",
   "execution_count": 10,
   "metadata": {},
   "outputs": [],
   "source": [
    "df = np.hstack((X_train, y_train))\n",
    "indices = np.arange(len(y_train))\n",
    "np.random.shuffle(indices)\n",
    "sets = np.array_split(indices, 5)\n",
    "fn = lambda index: df[sets[index],:]\n",
    "ls = [fn(i) for i in np.arange(5)]"
   ]
  },
  {
   "cell_type": "code",
   "execution_count": 8,
   "metadata": {
    "scrolled": false
   },
   "outputs": [
    {
     "data": {
      "text/plain": [
       "45"
      ]
     },
     "execution_count": 8,
     "metadata": {},
     "output_type": "execute_result"
    }
   ],
   "source": [
    "np.mean(np.array(cv.ridge(X_train, y_train)),0).argmin()"
   ]
  },
  {
   "cell_type": "code",
   "execution_count": 5,
   "metadata": {},
   "outputs": [
    {
     "data": {
      "text/plain": [
       "(1279, 11)"
      ]
     },
     "execution_count": 5,
     "metadata": {},
     "output_type": "execute_result"
    }
   ],
   "source": [
    "np.shape(X_train)"
   ]
  },
  {
   "cell_type": "code",
   "execution_count": 7,
   "metadata": {},
   "outputs": [
    {
     "data": {
      "text/plain": [
       "array([-0.00442999, -0.98084872, -0.10239602,  0.0016772 , -1.45279947,\n",
       "        0.00506085, -0.00359124, -0.02448573, -0.67885945,  0.88997452,\n",
       "        0.29059683])"
      ]
     },
     "execution_count": 7,
     "metadata": {},
     "output_type": "execute_result"
    }
   ],
   "source": [
    "ridge_fitted_sklearn.coef_"
   ]
  },
  {
   "cell_type": "markdown",
   "metadata": {},
   "source": [
    "\\begin{align}\n",
    "\\begin{bmatrix}\n",
    "    \\hat{\\beta}_0\\\\\n",
    "    \\hat{\\beta}\\\\\n",
    "\\end{bmatrix}\n",
    "&=\n",
    "\\arg\\min_{\\beta_0,\\beta} \\left\\Vert\\mathbf{Y}-\\begin{bmatrix} \\mathbf{1_n} & \\mathbf{X} \\end{bmatrix}\\begin{bmatrix}\n",
    "    \\hat{\\beta}_0\\\\\n",
    "    \\hat{\\beta}\\\\\n",
    "\\end{bmatrix}\\right\\Vert^2 _2\n",
    "\\\\\n",
    "\\begin{bmatrix}\n",
    "    \\hat{\\beta}\\\\\n",
    "\\end{bmatrix}\n",
    "&=\n",
    "{(\\mathbf{X'}\\mathbf{X}})^{-1} (\\mathbf{X'}\\mathbf{Y})\n",
    "\\end{align}"
   ]
  },
  {
   "cell_type": "markdown",
   "metadata": {},
   "source": [
    "Lasso Regression and the Elastic Net however do not have closed form solutions due to the nature of the L1 norm penalization term. This means that discrete optimization methods are needed in order to compute the regression estimates using these regularization techniques. Currently one of the best algorithms to accomplish this is Coordinate Descent that incorporates warm starts and covariance/naive updates."
   ]
  },
  {
   "cell_type": "markdown",
   "metadata": {
    "hide_input": false
   },
   "source": [
    "Now, in order to find the correct tuning parameters for Ridge, Lasso, and the Elastic Net K-fold Cross Validation is used. We use a k = 10 since our data set is only 1599 entries, and make our grid spacing on a log scale for lambda and a log scale for alpha (in the case of the Elastic Net)"
   ]
  },
  {
   "cell_type": "code",
   "execution_count": null,
   "metadata": {},
   "outputs": [],
   "source": [
    "start = time.time()\n",
    "ridge = cv.ridge(train.values)\n",
    "ridge_error = utils.get_error(ridge[3], test)\n",
    "end = time.time()\n",
    "times_ridge = end-start\n",
    "print('My Ridge Function\\'s Runtime: ', times_ridge)\n"
   ]
  },
  {
   "cell_type": "code",
   "execution_count": null,
   "metadata": {},
   "outputs": [],
   "source": [
    "ridge = cv.cross_validation_error(train,regress.ridge,100,5)\n",
    "lasso = cv.cross_validation_error(train,regress.lasso,100,5)\n",
    "# elastic = cross_validation(wine_data,10,100, Type = 'elastic net')"
   ]
  },
  {
   "cell_type": "code",
   "execution_count": null,
   "metadata": {
    "scrolled": true
   },
   "outputs": [],
   "source": [
    "y_hat = np.dot(test.values[:,0:-1],ols[1:])+ols[0]\n",
    "error = np.linalg.norm(test.values[:,-1]-y_hat)**2\n",
    "error"
   ]
  },
  {
   "cell_type": "code",
   "execution_count": null,
   "metadata": {},
   "outputs": [],
   "source": [
    "lasso['Model Parameters'][0,1]"
   ]
  },
  {
   "cell_type": "code",
   "execution_count": null,
   "metadata": {},
   "outputs": [],
   "source": [
    "train"
   ]
  },
  {
   "cell_type": "code",
   "execution_count": null,
   "metadata": {},
   "outputs": [],
   "source": [
    "pd.DataFrame(index = [\"OLS\",\"Ridge\",\"Lasso\",\"Elastic Net\"], \n",
    "              data = ({\"Cross Validation Error\": [ols_est,ridge[1],\n",
    "                                                  lasso[1],elastic[2]]}))"
   ]
  },
  {
   "cell_type": "code",
   "execution_count": null,
   "metadata": {},
   "outputs": [],
   "source": [
    "indice_alpha = np.where(elastic[5] == elastic[1])[0][0]\n",
    "indice_lambda = np.where(elastic[4] == elastic[0])[0][0]\n",
    "columns = np.append('Intercept', wine_data.columns.values[0:-1])\n",
    "index = [\"OLS\",\"Ridge\",\"Lasso standardized\",\"Lasso unstandardized\",\\\n",
    "         \"Elastic Net standardized\",\"Elastic Net unstandardized\"]\n",
    "data = np.append(np.append(np.append(\n",
    "    np.append(np.append([ols(wine_data)], \\ [ridge_regression(\n",
    "        wine_data,ridge[0])],0), \\ [lasso_regression_covar(\n",
    "        wine_data,lasso[0])[0]],0),\\ [unstandardize(\n",
    "        lasso_regression_covar(wine_data,lasso[0])[0])],0),\\\n",
    "                 [elastic[-1][indice_alpha,:][indice_lambda,:]],0),\\\n",
    "                 [unstandardize(\n",
    "    elastic[-1][indice_alpha,:][indice_lambda,:])],0)\n",
    "\n",
    "pd.DataFrame(data = data, index = index, columns = columns)"
   ]
  },
  {
   "cell_type": "code",
   "execution_count": null,
   "metadata": {
    "scrolled": false
   },
   "outputs": [],
   "source": [
    "#Plot tuning parameters versus error and tuning parameters \n",
    "#versus coefficient value\n",
    "fig = plt.figure(figsize=(20*1.5,9*1.5))\n",
    "fig.tight_layout()\n",
    "\n",
    "rid = fig.add_subplot(211)\n",
    "rid.scatter(ridge[3], ridge[2])\n",
    "rid.plot(ridge[3], ridge[2])\n",
    "rid.set_xscale('log')\n",
    "rid.set_xlabel('Log Lambda')\n",
    "rid.set_ylabel(\"Cross Validation Error\")\n",
    "rid.set_title('Cross Validation Error for Ridge')\n",
    "\n",
    "rid_coeff = fig.add_subplot(212)\n",
    "rid_coeff.set_xlabel('Log Lambda')\n",
    "rid_coeff.set_ylabel(\"Coefficients\")\n",
    "rid_coeff.set_title(\"Coefficient Path for Ridge\")\n",
    "for i in np.arange(1,12):\n",
    "    rid_coeff.plot(ridge[3],ridge[4][:,i-1])\n",
    "    rid_coeff.set_xscale('log')\n",
    "\n"
   ]
  },
  {
   "cell_type": "code",
   "execution_count": null,
   "metadata": {},
   "outputs": [],
   "source": [
    "#Plot tuning parameters versus error and tuning parameters \n",
    "#versus coefficient value\n",
    "fig2 = plt.figure(figsize=(20*1.5,9*1.5))\n",
    "fig2.tight_layout()\n",
    "\n",
    "las = fig2.add_subplot(211)\n",
    "las.scatter(lasso[3], lasso[2])\n",
    "las.plot(lasso[3], lasso[2])\n",
    "las.set_xscale('log')\n",
    "las.set_xlabel('Log Lambda')\n",
    "las.set_ylabel(\"Cross Validation Error\")\n",
    "las.set_title('Cross Validation Error for Lasso')\n",
    "\n",
    "las_coeff = fig2.add_subplot(212)\n",
    "las_coeff.set_xlabel('Log Lambda')\n",
    "las_coeff.set_ylabel(\"Coefficients\")\n",
    "las_coeff.set_title(\"Coefficient Path for Lasso\")\n",
    "for i in np.arange(1,12):\n",
    "    las_coeff.plot(lasso[3],lasso[4][:,i])\n",
    "    las_coeff.set_xscale('log')\n",
    "    "
   ]
  },
  {
   "cell_type": "code",
   "execution_count": null,
   "metadata": {},
   "outputs": [],
   "source": [
    "fig4,axs = plt.subplots(6,1,figsize = (25*1.5,30*1.5))\n",
    "\n",
    "axs = axs.ravel()\n",
    "for i in np.arange(1,7):\n",
    "    X = elastic[4][int(99/(7-i)),:]\n",
    "    Y = elastic[3][int(99/(7-i)),:]\n",
    "    alpha = elastic[5][int(99/(7-i))]\n",
    "    axs[i-1].plot(X,Y)\n",
    "    axs[i-1].set_xscale('log')\n",
    "    axs[i-1].set_xlabel('Log Lambda')\n",
    "    axs[i-1].set_ylabel(\"Cross Validation Error\")\n",
    "    axs[i-1].set_title('Cross Validation Error for alpha = %f' %alpha)"
   ]
  },
  {
   "cell_type": "code",
   "execution_count": null,
   "metadata": {},
   "outputs": [],
   "source": [
    "fig5 = plt.figure(figsize=(15,15))\n",
    "\n",
    "elas_coeff = fig5.add_subplot(212)\n",
    "elas_coeff.set_xlabel('Log Lambda')\n",
    "elas_coeff.set_ylabel(\"Coefficients\")\n",
    "elas_coeff.set_title(\"Coefficient Path for Elastic Net\")\n",
    "\n",
    "indice = np.where(elastic[5] == elastic[1])[0][0]\n",
    "for i in np.arange(1,12):\n",
    "    elas_coeff.plot(elastic[4][indice,:],elastic[-1][indice,:][:,i])\n",
    "    elas_coeff.set_xscale('log')"
   ]
  }
 ],
 "metadata": {
  "kernelspec": {
   "display_name": "Python 3",
   "language": "python",
   "name": "python3"
  },
  "language_info": {
   "codemirror_mode": {
    "name": "ipython",
    "version": 3
   },
   "file_extension": ".py",
   "mimetype": "text/x-python",
   "name": "python",
   "nbconvert_exporter": "python",
   "pygments_lexer": "ipython3",
   "version": "3.8.6"
  },
  "latex_envs": {
   "LaTeX_envs_menu_present": true,
   "autoclose": true,
   "autocomplete": true,
   "bibliofile": "biblio.bib",
   "cite_by": "apalike",
   "current_citInitial": 1,
   "eqLabelWithNumbers": true,
   "eqNumInitial": 1,
   "hotkeys": {
    "equation": "Ctrl-E",
    "itemize": "Ctrl-I"
   },
   "labels_anchors": false,
   "latex_user_defs": false,
   "report_style_numbering": false,
   "user_envs_cfg": false
  },
  "toc": {
   "base_numbering": 1,
   "nav_menu": {},
   "number_sections": false,
   "sideBar": true,
   "skip_h1_title": true,
   "title_cell": "Table of Contents",
   "title_sidebar": "Contents",
   "toc_cell": true,
   "toc_position": {
    "height": "calc(100% - 180px)",
    "left": "10px",
    "top": "150px",
    "width": "165px"
   },
   "toc_section_display": true,
   "toc_window_display": true
  },
  "varInspector": {
   "cols": {
    "lenName": 16,
    "lenType": 16,
    "lenVar": 40
   },
   "kernels_config": {
    "python": {
     "delete_cmd_postfix": "",
     "delete_cmd_prefix": "del ",
     "library": "var_list.py",
     "varRefreshCmd": "print(var_dic_list())"
    },
    "r": {
     "delete_cmd_postfix": ") ",
     "delete_cmd_prefix": "rm(",
     "library": "var_list.r",
     "varRefreshCmd": "cat(var_dic_list()) "
    }
   },
   "types_to_exclude": [
    "module",
    "function",
    "builtin_function_or_method",
    "instance",
    "_Feature"
   ],
   "window_display": false
  }
 },
 "nbformat": 4,
 "nbformat_minor": 2
}
